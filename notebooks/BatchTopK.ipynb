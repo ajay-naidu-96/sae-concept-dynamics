{
 "cells": [
  {
   "cell_type": "code",
   "execution_count": 1,
   "id": "3f4b28a1-d0c3-42ac-bb9e-2ecf0487c730",
   "metadata": {},
   "outputs": [],
   "source": [
    "import torch\n",
    "import numpy as np\n",
    "import matplotlib.pyplot as plt\n",
    "from torch.utils.data import DataLoader, TensorDataset\n",
    "from overcomplete.sae import BatchTopKSAE, train_sae\n",
    "import pandas as pd"
   ]
  },
  {
   "cell_type": "code",
   "execution_count": 2,
   "id": "4a1892fb-b431-451f-b7f0-0cec7e8e327e",
   "metadata": {},
   "outputs": [
    {
     "name": "stderr",
     "output_type": "stream",
     "text": [
      "/tmp/ipykernel_2186698/3713506127.py:2: FutureWarning: You are using `torch.load` with `weights_only=False` (the current default value), which uses the default pickle module implicitly. It is possible to construct malicious pickle data which will execute arbitrary code during unpickling (See https://github.com/pytorch/pytorch/blob/main/SECURITY.md#untrusted-models for more details). In a future release, the default value for `weights_only` will be flipped to `True`. This limits the functions that could be executed during unpickling. Arbitrary objects will no longer be allowed to be loaded via this mode unless they are explicitly allowlisted by the user via `torch.serialization.add_safe_globals`. We recommend you start setting `weights_only=True` for any use case where you don't have full control of the loaded file. Please open an issue on GitHub for any issues related to this experimental feature.\n",
      "  ckpt = torch.load(train_path)\n"
     ]
    }
   ],
   "source": [
    "train_path = \"./logs/activation.pt\"\n",
    "ckpt = torch.load(train_path)\n",
    "\n",
    "fc1 = ckpt[\"fc1\"]\n",
    "fc1_activations = ckpt[\"fc1_activations\"]\n",
    "labels = ckpt[\"labels\"]\n",
    "\n",
    "batch_size = 1024\n",
    "device = torch.device(\"cuda:3\" if torch.cuda.is_available() else \"cpu\")\n",
    "\n",
    "dataloader = torch.utils.data.DataLoader(TensorDataset(fc1), batch_size=batch_size, shuffle=True)\n"
   ]
  },
  {
   "cell_type": "code",
   "execution_count": 4,
   "id": "2b1dd6d7-1d51-4041-a2d9-d57e3a4ad7d8",
   "metadata": {},
   "outputs": [
    {
     "name": "stdout",
     "output_type": "stream",
     "text": [
      "Epoch[1/25], Loss: 8.9883, R2: 0.3920, L0: 12.1392, Dead Features: 0.0%, Time: 159.9574 seconds\n",
      "Epoch[2/25], Loss: 1.5538, R2: 0.8947, L0: 12.1392, Dead Features: 22.3%, Time: 117.2075 seconds\n",
      "Epoch[3/25], Loss: 0.6518, R2: 0.9559, L0: 12.1392, Dead Features: 27.3%, Time: 116.6201 seconds\n",
      "Epoch[4/25], Loss: 0.4351, R2: 0.9706, L0: 12.1392, Dead Features: 36.7%, Time: 96.3935 seconds\n",
      "Epoch[5/25], Loss: 0.3367, R2: 0.9773, L0: 12.1392, Dead Features: 46.9%, Time: 81.8927 seconds\n",
      "Epoch[6/25], Loss: 0.2640, R2: 0.9822, L0: 12.1392, Dead Features: 48.8%, Time: 77.5539 seconds\n",
      "Epoch[7/25], Loss: 0.2182, R2: 0.9854, L0: 12.1392, Dead Features: 53.9%, Time: 88.1875 seconds\n",
      "Epoch[8/25], Loss: 0.1982, R2: 0.9867, L0: 12.1392, Dead Features: 56.2%, Time: 113.9323 seconds\n",
      "Epoch[9/25], Loss: 0.1881, R2: 0.9874, L0: 12.1392, Dead Features: 61.3%, Time: 105.8040 seconds\n",
      "Epoch[10/25], Loss: 0.1789, R2: 0.9881, L0: 12.1392, Dead Features: 60.9%, Time: 110.0358 seconds\n",
      "Epoch[11/25], Loss: 0.1707, R2: 0.9886, L0: 12.1392, Dead Features: 62.1%, Time: 90.5121 seconds\n",
      "Epoch[12/25], Loss: 0.1638, R2: 0.9891, L0: 12.1392, Dead Features: 66.0%, Time: 96.6451 seconds\n",
      "Epoch[13/25], Loss: 0.1574, R2: 0.9895, L0: 12.1392, Dead Features: 65.6%, Time: 84.2072 seconds\n",
      "Epoch[14/25], Loss: 0.1515, R2: 0.9900, L0: 12.1392, Dead Features: 67.2%, Time: 99.9982 seconds\n",
      "Epoch[15/25], Loss: 0.1461, R2: 0.9903, L0: 12.1392, Dead Features: 66.4%, Time: 121.4269 seconds\n",
      "Epoch[16/25], Loss: 0.1415, R2: 0.9906, L0: 12.1392, Dead Features: 70.3%, Time: 120.0799 seconds\n",
      "Epoch[17/25], Loss: 0.1377, R2: 0.9909, L0: 12.1392, Dead Features: 68.8%, Time: 140.4996 seconds\n",
      "Epoch[18/25], Loss: 0.1340, R2: 0.9911, L0: 12.1392, Dead Features: 68.8%, Time: 117.1654 seconds\n",
      "Epoch[19/25], Loss: 0.1311, R2: 0.9914, L0: 12.1392, Dead Features: 69.1%, Time: 104.4965 seconds\n",
      "Epoch[20/25], Loss: 0.1283, R2: 0.9916, L0: 12.1392, Dead Features: 69.1%, Time: 136.7646 seconds\n",
      "Epoch[21/25], Loss: 0.1258, R2: 0.9917, L0: 12.1392, Dead Features: 69.5%, Time: 109.8577 seconds\n",
      "Epoch[22/25], Loss: 0.1234, R2: 0.9919, L0: 12.1392, Dead Features: 73.0%, Time: 117.2243 seconds\n",
      "Epoch[23/25], Loss: 0.1208, R2: 0.9921, L0: 12.1392, Dead Features: 71.9%, Time: 124.4777 seconds\n",
      "Epoch[24/25], Loss: 0.1186, R2: 0.9922, L0: 12.1392, Dead Features: 67.6%, Time: 90.4115 seconds\n",
      "Epoch[25/25], Loss: 0.1168, R2: 0.9923, L0: 12.1392, Dead Features: 67.6%, Time: 118.9994 seconds\n"
     ]
    }
   ],
   "source": [
    "nb_concepts = 256\n",
    "top_k_individual = 12\n",
    "\n",
    "sae = BatchTopKSAE(fc1.shape[-1], nb_concepts=nb_concepts, top_k=top_k_individual*batch_size, device=device)\n",
    "optimizer = torch.optim.Adam(sae.parameters(), lr=1e-3)\n",
    "\n",
    "\n",
    "def criterion(x, x_hat, pre_codes, codes, dictionary):\n",
    "  loss = (x - x_hat).square().mean()\n",
    "\n",
    "  is_dead = ((codes > 0).sum(dim=0) == 0).float().detach()\n",
    "  reanim_loss = (pre_codes * is_dead[None, :]).mean()\n",
    "\n",
    "  loss -= reanim_loss * 1e-3\n",
    "  return loss\n",
    "\n",
    "logs = train_sae(sae, dataloader, criterion, optimizer, nb_epochs=25, device=device)"
   ]
  }
 ],
 "metadata": {
  "kernelspec": {
   "display_name": "Python 3 (ipykernel)",
   "language": "python",
   "name": "python3"
  },
  "language_info": {
   "codemirror_mode": {
    "name": "ipython",
    "version": 3
   },
   "file_extension": ".py",
   "mimetype": "text/x-python",
   "name": "python",
   "nbconvert_exporter": "python",
   "pygments_lexer": "ipython3",
   "version": "3.10.13"
  }
 },
 "nbformat": 4,
 "nbformat_minor": 5
}
